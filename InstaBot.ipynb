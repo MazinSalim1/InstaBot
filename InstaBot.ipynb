{
 "cells": [
  {
   "cell_type": "code",
   "execution_count": 1,
   "id": "0841a0c0",
   "metadata": {},
   "outputs": [],
   "source": [
    "import time, random\n",
    "from instagram_private_api import Client, ClientCompatPatch"
   ]
  },
  {
   "cell_type": "code",
   "execution_count": 18,
   "id": "6ddd51da",
   "metadata": {},
   "outputs": [],
   "source": [
    "def like_tags(tags,ppt):\n",
    "    global posts\n",
    "    posts= {}\n",
    "    for i in range(len(tags)):\n",
    "        print(f'Liking posts tagged: {tags[i]}')\n",
    "        results = api.feed_tag(tag = tags[i],rank_token= Client.generate_uuid())\n",
    "        c=0\n",
    "        for i in range(len(results['items'])):\n",
    "            if results['items'][i]['code'] not in list(posts.keys()):\n",
    "                link=results['items'][i]['code']\n",
    "                mid=results['items'][i]['id']\n",
    "                uid=str(results['items'][i]['user']['pk'])\n",
    "                name=results['items'][i]['user']['username']\n",
    "                api.post_like(media_id = mid)\n",
    "                print('Liked post---> https://www.instagram.com/p/'+link)\n",
    "                posts[link]=[mid,uid,name]\n",
    "                c+=1\n",
    "                if c == ppt: break\n",
    "                time.sleep(5)"
   ]
  },
  {
   "cell_type": "code",
   "execution_count": 24,
   "id": "b3cc0b15",
   "metadata": {},
   "outputs": [
    {
     "name": "stdout",
     "output_type": "stream",
     "text": [
      "Commeting...\n",
      "Commented Successfuly on the post https://www.instagram.com/p/CTIgXXoBXDN\n",
      "Commented Successfuly on the post https://www.instagram.com/p/CTIgfHTCG13\n",
      "Commented Successfuly on the post https://www.instagram.com/p/CTIgpetlpUe\n",
      "Commented Successfuly on the post https://www.instagram.com/p/CTIguDPnsGz\n",
      "Commented Successfuly on the post https://www.instagram.com/p/CTIgDctlvRG\n",
      "Commented Successfuly on the post https://www.instagram.com/p/CTIgkkkKEOw\n",
      "Commented Successfuly on the post https://www.instagram.com/p/CTIggvRDO1M\n",
      "Commented Successfuly on the post https://www.instagram.com/p/CTIgs-sIUn4\n",
      "Commented Successfuly on the post https://www.instagram.com/p/CTIgwAkFsxj\n",
      "Commented Successfuly on the post https://www.instagram.com/p/CTIgGHkpIqH\n"
     ]
    }
   ],
   "source": [
    "#len(posts)\n",
    "#follow_liked(10)\n",
    "#commenting(50)"
   ]
  },
  {
   "cell_type": "code",
   "execution_count": 20,
   "id": "5d846e95",
   "metadata": {},
   "outputs": [],
   "source": [
    "def follow_liked(percent):\n",
    "    num= round(len(posts)*percent/100)\n",
    "    tocom=random.sample(list(posts.keys()),num)\n",
    "    print(f'Following {percent}% of account that you liked posts from...')\n",
    "    for i in tocom:\n",
    "        api.friendships_create(user_id= posts[i][1])\n",
    "        print(\"Followed user---> \"+posts[i][2])\n",
    "        time.sleep(5)"
   ]
  },
  {
   "cell_type": "code",
   "execution_count": 4,
   "id": "b4333bb3",
   "metadata": {
    "scrolled": true
   },
   "outputs": [],
   "source": [
    "def commenting(percent):\n",
    "    print(\"Commeting...\")\n",
    "    comments=['🔥🔥🔥','👍🏼👍🏼👍🏼','🤩🤩🤩','👌🏽👌🏽👌🏽','✌️✌️✌️']\n",
    "    lim= round(len(posts)*percent/100)\n",
    "    for i in random.sample(list(posts.keys()),lim):\n",
    "        comm=random.sample(comments , 1)\n",
    "        api.post_comment(media_id =posts[i][0] , comment_text= comm[0])   \n",
    "        print(f'Commented Successfuly on the post https://www.instagram.com/p/{i}')\n",
    "        time.sleep(5)"
   ]
  },
  {
   "cell_type": "code",
   "execution_count": 5,
   "id": "233e67fc",
   "metadata": {},
   "outputs": [
    {
     "ename": "NameError",
     "evalue": "name 'posts' is not defined",
     "output_type": "error",
     "traceback": [
      "\u001b[0;31m---------------------------------------------------------------------------\u001b[0m",
      "\u001b[0;31mNameError\u001b[0m                                 Traceback (most recent call last)",
      "\u001b[0;32m/var/folders/fx/d8v7d6rn5tb5tbs6t237kxbc0000gn/T/ipykernel_10768/805103557.py\u001b[0m in \u001b[0;36m<module>\u001b[0;34m\u001b[0m\n\u001b[0;32m----> 1\u001b[0;31m \u001b[0mlen\u001b[0m\u001b[0;34m(\u001b[0m\u001b[0mposts\u001b[0m\u001b[0;34m)\u001b[0m\u001b[0;34m\u001b[0m\u001b[0;34m\u001b[0m\u001b[0m\n\u001b[0m",
      "\u001b[0;31mNameError\u001b[0m: name 'posts' is not defined"
     ]
    }
   ],
   "source": [
    "len(posts)"
   ]
  },
  {
   "cell_type": "code",
   "execution_count": 219,
   "id": "b151f176",
   "metadata": {},
   "outputs": [
    {
     "name": "stdout",
     "output_type": "stream",
     "text": [
      "Commeting...\n",
      "Commented Successfuly on the post https://www.instagram.com/p/CTIeOdMBMiE\n"
     ]
    }
   ],
   "source": [
    "commenting(10)"
   ]
  },
  {
   "cell_type": "code",
   "execution_count": 15,
   "id": "7253c585",
   "metadata": {},
   "outputs": [],
   "source": [
    "def main():\n",
    "    user_name = 'iamzansir'\n",
    "    password = 'mishalia'\n",
    "    #Set your parameters\n",
    "    tags= ['Warzone','callofduty']\n",
    "    #Posts per Tag to like\n",
    "    ppt = 10 \n",
    "    \n",
    "    global api\n",
    "    try:\n",
    "        api = Client(user_name, password)\n",
    "        print('Login Sucess...')\n",
    "    except Exception as e:\n",
    "        print(f'Login Failed. \\nError: {e}')\n",
    "\n",
    "    like_tags(tags, ppt)\n",
    "    #input is the % of accounts to follow (accounts whose post you liked)\n",
    "    follow_liked(20)\n",
    "    commenting(50)"
   ]
  },
  {
   "cell_type": "code",
   "execution_count": 25,
   "id": "3ff06a04",
   "metadata": {},
   "outputs": [
    {
     "name": "stdout",
     "output_type": "stream",
     "text": [
      "Login Sucess.\n",
      "Liked post---> https://www.instagram.com/p/CTIglbzlKIf\n",
      "Liked post---> https://www.instagram.com/p/CTIheJNis7t\n",
      "Liked post---> https://www.instagram.com/p/CTIhvnbndB7\n",
      "Liked post---> https://www.instagram.com/p/CTIhP_ZjqvV\n",
      "Liked post---> https://www.instagram.com/p/CTIhyP2n3IW\n",
      "Liked post---> https://www.instagram.com/p/CTIhvGkqxoA\n",
      "Liked post---> https://www.instagram.com/p/CTIhssohzW2\n",
      "Liked post---> https://www.instagram.com/p/CTIhr9eJW5F\n",
      "Liked post---> https://www.instagram.com/p/CTIhpcDlo-J\n",
      "Liked post---> https://www.instagram.com/p/CTIhW9pA17k\n",
      "Liked post---> https://www.instagram.com/p/CTIh8k6naft\n",
      "Liked post---> https://www.instagram.com/p/CTIh3AjJd_H\n",
      "Liked post---> https://www.instagram.com/p/CTIh6yQhhyJ\n",
      "Liked post---> https://www.instagram.com/p/CTIh6MNlNGS\n",
      "Liked post---> https://www.instagram.com/p/CTIh3kkjvw7\n",
      "Liked post---> https://www.instagram.com/p/CTIhznKFNaq\n",
      "Liked post---> https://www.instagram.com/p/CTIhrO5FtUa\n",
      "Liked post---> https://www.instagram.com/p/CTIhuyVhfXl\n",
      "Liked post---> https://www.instagram.com/p/CTIhrFXMX4q\n",
      "Liked post---> https://www.instagram.com/p/CTIhYIZDy5s\n",
      "Following 20% of account that you liked posts from...\n",
      "Followed user---> mob.esquire.codm\n",
      "Followed user---> aragornsdad.ttv\n",
      "Followed user---> fazethevikingo\n",
      "Followed user---> simplysummergaming\n",
      "Commeting...\n",
      "Commented Successfuly on the post https://www.instagram.com/p/CTIh3kkjvw7\n",
      "Commented Successfuly on the post https://www.instagram.com/p/CTIhpcDlo-J\n",
      "Commented Successfuly on the post https://www.instagram.com/p/CTIh6yQhhyJ\n",
      "Commented Successfuly on the post https://www.instagram.com/p/CTIhvGkqxoA\n",
      "Commented Successfuly on the post https://www.instagram.com/p/CTIh6MNlNGS\n",
      "Commented Successfuly on the post https://www.instagram.com/p/CTIhYIZDy5s\n",
      "Commented Successfuly on the post https://www.instagram.com/p/CTIhrO5FtUa\n",
      "Commented Successfuly on the post https://www.instagram.com/p/CTIhssohzW2\n",
      "Commented Successfuly on the post https://www.instagram.com/p/CTIhP_ZjqvV\n",
      "Commented Successfuly on the post https://www.instagram.com/p/CTIhrFXMX4q\n"
     ]
    }
   ],
   "source": [
    "if __name__== main():\n",
    "    main()"
   ]
  },
  {
   "cell_type": "code",
   "execution_count": null,
   "id": "f9d85bd9",
   "metadata": {},
   "outputs": [],
   "source": []
  }
 ],
 "metadata": {
  "kernelspec": {
   "display_name": "Python 3 (ipykernel)",
   "language": "python",
   "name": "python3"
  },
  "language_info": {
   "codemirror_mode": {
    "name": "ipython",
    "version": 3
   },
   "file_extension": ".py",
   "mimetype": "text/x-python",
   "name": "python",
   "nbconvert_exporter": "python",
   "pygments_lexer": "ipython3",
   "version": "3.9.6"
  }
 },
 "nbformat": 4,
 "nbformat_minor": 5
}
